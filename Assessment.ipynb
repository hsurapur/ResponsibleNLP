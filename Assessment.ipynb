{
  "nbformat": 4,
  "nbformat_minor": 0,
  "metadata": {
    "colab": {
      "provenance": [],
      "authorship_tag": "ABX9TyNyQ9wzyk8cifk8M3vHSgoG",
      "include_colab_link": true
    },
    "kernelspec": {
      "name": "python3",
      "display_name": "Python 3"
    },
    "language_info": {
      "name": "python"
    }
  },
  "cells": [
    {
      "cell_type": "markdown",
      "metadata": {
        "id": "view-in-github",
        "colab_type": "text"
      },
      "source": [
        "<a href=\"https://colab.research.google.com/github/hsurapur/ResponsibleNLP/blob/main/Assessment.ipynb\" target=\"_parent\"><img src=\"https://colab.research.google.com/assets/colab-badge.svg\" alt=\"Open In Colab\"/></a>"
      ]
    },
    {
      "cell_type": "markdown",
      "source": [
        "1.a)Performance in machine learning refers to how well a model makes predictions on unseen data. For this task, I chose accuracy as the performance metric because it measures the proportion of correctly predicted instances out of the total instances, which is a straightforward and interpretable measure for binary classification problems."
      ],
      "metadata": {
        "id": "RKlGFvJ-QX8F"
      }
    },
    {
      "cell_type": "markdown",
      "source": [
        "1.b)"
      ],
      "metadata": {
        "id": "lRsf68ZoOTM7"
      }
    },
    {
      "cell_type": "code",
      "source": [
        "import pandas as pd\n",
        "from sklearn.model_selection import train_test_split\n",
        "\n",
        "# Load the data\n",
        "data = pd.read_csv('gene.csv')\n",
        "\n",
        "# Check for missing values and handle them\n",
        "data = data.dropna()\n",
        "\n",
        "# Split the data\n",
        "X = data.drop('Class', axis=1)\n",
        "y = data['Class']\n",
        "X_train, X_test, y_train, y_test = train_test_split(X, y, test_size=0.2, random_state=42)"
      ],
      "metadata": {
        "id": "RlV6-sldKE12"
      },
      "execution_count": 17,
      "outputs": []
    },
    {
      "cell_type": "markdown",
      "source": [
        "1.c)"
      ],
      "metadata": {
        "id": "TThTM5GPOWYn"
      }
    },
    {
      "cell_type": "code",
      "source": [
        "from sklearn.linear_model import LogisticRegression\n",
        "from sklearn.metrics import accuracy_score\n",
        "\n",
        "# Fit logistic regression\n",
        "log_reg = LogisticRegression(max_iter=1000)\n",
        "log_reg.fit(X_train, y_train)\n",
        "y_pred_log_reg = log_reg.predict(X_test)\n",
        "\n",
        "# Performance\n",
        "accuracy_log_reg = accuracy_score(y_test, y_pred_log_reg)\n",
        "print(f'Logistic Regression Accuracy: {accuracy_log_reg}')"
      ],
      "metadata": {
        "id": "FDee3emfKHLw",
        "colab": {
          "base_uri": "https://localhost:8080/"
        },
        "outputId": "9244fa80-9a22-4257-a970-ccff5fadeff8"
      },
      "execution_count": 18,
      "outputs": [
        {
          "output_type": "stream",
          "name": "stdout",
          "text": [
            "Logistic Regression Accuracy: 0.9991159168961883\n"
          ]
        }
      ]
    },
    {
      "cell_type": "markdown",
      "source": [
        "1.d)"
      ],
      "metadata": {
        "id": "pSxZ8RLuOaVg"
      }
    },
    {
      "cell_type": "code",
      "source": [
        "from sklearn.ensemble import RandomForestClassifier\n",
        "\n",
        "# Fit random forest\n",
        "rf_clf = RandomForestClassifier(random_state=42)\n",
        "rf_clf.fit(X_train, y_train)\n",
        "y_pred_rf = rf_clf.predict(X_test)\n",
        "\n",
        "# Performance\n",
        "accuracy_rf = accuracy_score(y_test, y_pred_rf)\n",
        "print(f'Random Forest Accuracy: {accuracy_rf}')"
      ],
      "metadata": {
        "colab": {
          "base_uri": "https://localhost:8080/"
        },
        "id": "tOdaI-xAKkQk",
        "outputId": "9c26695e-1c76-4826-b8db-ac01eadc22ac"
      },
      "execution_count": 19,
      "outputs": [
        {
          "output_type": "stream",
          "name": "stdout",
          "text": [
            "Random Forest Accuracy: 0.9995239552517937\n"
          ]
        }
      ]
    },
    {
      "cell_type": "markdown",
      "source": [
        "1.e)"
      ],
      "metadata": {
        "id": "NGjGWJkrOdiW"
      }
    },
    {
      "cell_type": "code",
      "source": [
        "from sklearn.preprocessing import StandardScaler\n",
        "from sklearn.model_selection import cross_val_score\n",
        "\n",
        "# Scale the features\n",
        "scaler = StandardScaler()\n",
        "X_train_scaled = scaler.fit_transform(X_train)\n",
        "X_test_scaled = scaler.transform(X_test)\n",
        "\n",
        "# Fit and evaluate logistic regression with scaled features\n",
        "log_reg_scaled = LogisticRegression(max_iter=1000)\n",
        "log_reg_scaled.fit(X_train_scaled, y_train)\n",
        "y_pred_log_reg_scaled = log_reg_scaled.predict(X_test_scaled)\n",
        "accuracy_log_reg_scaled = accuracy_score(y_test, y_pred_log_reg_scaled)\n",
        "\n",
        "print(f'Scaled Logistic Regression Accuracy: {accuracy_log_reg_scaled}')"
      ],
      "metadata": {
        "colab": {
          "base_uri": "https://localhost:8080/"
        },
        "id": "hxdUc9hGMK3G",
        "outputId": "4584e05a-9781-466a-f6b4-a45c5e802391"
      },
      "execution_count": 20,
      "outputs": [
        {
          "output_type": "stream",
          "name": "stdout",
          "text": [
            "Scaled Logistic Regression Accuracy: 0.9991159168961883\n"
          ]
        }
      ]
    },
    {
      "cell_type": "markdown",
      "source": [
        "Question2.1) Edit - distance algorithm"
      ],
      "metadata": {
        "id": "I-uQ0KgyNR7Y"
      }
    },
    {
      "cell_type": "code",
      "source": [
        "def modified_hamming_distance(s1: str, s2: str) -> float:\n",
        "    \"\"\"Calculate the modified Hamming distance between two strings.\"\"\"\n",
        "    if len(s1) != len(s2):\n",
        "        raise ValueError(\"Strings must be of equal length.\")\n",
        "\n",
        "    distance = 0.0\n",
        "\n",
        "    for i in range(len(s1)):\n",
        "        char1, char2 = s1[i], s2[i]\n",
        "\n",
        "        # Treat 'S' and 'Z' (and 's' and 'z') as the same letter\n",
        "        if (char1.lower() == 's' and char2.lower() == 'z') or (char1.lower() == 'z' and char2.lower() == 's'):\n",
        "            continue\n",
        "\n",
        "        if char1 != char2:\n",
        "            # Check if the difference is due to capitalization and not in the first position\n",
        "            if i > 0 and char1.lower() == char2.lower():\n",
        "                distance += 0.5\n",
        "            else:\n",
        "                distance += 1\n",
        "\n",
        "    return distance\n",
        "\n",
        "# Test cases\n",
        "print(modified_hamming_distance(\"Kitten\", \"kitten\"))\n",
        "print(modified_hamming_distance(\"kitten\", \"KiTten\"))\n",
        "print(modified_hamming_distance(\"Puppy\", \"POppy\"))\n",
        "print(modified_hamming_distance(\"analyze\", \"analyse\"))"
      ],
      "metadata": {
        "colab": {
          "base_uri": "https://localhost:8080/"
        },
        "id": "29_05QjBOF5U",
        "outputId": "e5c6f3b7-3655-4567-a2f3-87bf2267378e"
      },
      "execution_count": 32,
      "outputs": [
        {
          "output_type": "stream",
          "name": "stdout",
          "text": [
            "1.0\n",
            "1.5\n",
            "1.0\n",
            "0.0\n"
          ]
        }
      ]
    },
    {
      "cell_type": "markdown",
      "source": [
        "2.2)"
      ],
      "metadata": {
        "id": "oZAeF6NZOmbY"
      }
    },
    {
      "cell_type": "code",
      "source": [
        "def modified_hamming_distance(s1: str, s2: str) -> float:\n",
        "    \"\"\"Calculate the modified Hamming distance between two strings.\"\"\"\n",
        "    if len(s1) != len(s2):\n",
        "        raise ValueError(\"Strings must be of equal length.\")\n",
        "\n",
        "    distance = 0.0\n",
        "\n",
        "    for i in range(len(s1)):\n",
        "        char1, char2 = s1[i], s2[i]\n",
        "\n",
        "        if (char1.lower() == 's' and char2.lower() == 'z') or (char1.lower() == 'z' and char2.lower() == 's'):\n",
        "            continue\n",
        "\n",
        "        if char1 != char2:\n",
        "            if i > 0 and char1.lower() == char2.lower():\n",
        "                distance += 0.5\n",
        "            else:\n",
        "                distance += 1\n",
        "\n",
        "    return distance\n",
        "\n",
        "# Test cases\n",
        "print(modified_hamming_distance(\"make\", \"Mage\"))\n",
        "print(modified_hamming_distance(\"MaiSY\", \"MaiZy\"))\n",
        "print(modified_hamming_distance(\"Eagle\", \"Eager\"))\n",
        "print(modified_hamming_distance(\"Sentences work too.\", \"Sentences wAke too.\"))\n",
        "\n",
        "# Additional test cases\n",
        "print(modified_hamming_distance(\"data Science\", \"Data Sciency\"))\n",
        "print(modified_hamming_distance(\"organizing\", \"orGanising\"))\n",
        "print(modified_hamming_distance(\"AGPRklafsdyweIllIIgEnXuTggzF\", \"AgpRkliFZdiweIllIIgENXUTygSF\"))"
      ],
      "metadata": {
        "colab": {
          "base_uri": "https://localhost:8080/"
        },
        "id": "GZuLhBEHOHKE",
        "outputId": "0df17d05-ec26-4095-9ffa-26856e8188aa"
      },
      "execution_count": 33,
      "outputs": [
        {
          "output_type": "stream",
          "name": "stdout",
          "text": [
            "2.0\n",
            "0.5\n",
            "2.0\n",
            "3.0\n",
            "2.0\n",
            "0.5\n",
            "5.5\n"
          ]
        }
      ]
    },
    {
      "cell_type": "markdown",
      "source": [
        "2.2.d) The standard Hamming distance algorithm is applicable in scenarios where the exact differences between equal-length strings need to be identified, such as error detection in data transmission. For example, in digital communications, each bit transmitted over a network can be compared to the expected bit sequence to identify and correct errors. This method is efficient for detecting and correcting single-bit errors in binary data streams, which is crucial for maintaining data integrity in systems like memory storage, error-correcting codes, and network packet verification."
      ],
      "metadata": {
        "id": "WQ2npsoCQKfp"
      }
    },
    {
      "cell_type": "markdown",
      "source": [
        "Q3)"
      ],
      "metadata": {
        "id": "l8GOPg9cSVs9"
      }
    },
    {
      "cell_type": "markdown",
      "source": [
        "Q3.a)"
      ],
      "metadata": {
        "id": "4x2nldQ7SX6v"
      }
    },
    {
      "cell_type": "code",
      "source": [
        "import pandas as pd\n",
        "\n",
        "df = pd.read_csv(\"patent_drawing.csv\")\n",
        "count_embod = df['text'].str.contains(r'\\bembod', case=False, na=False).sum()\n",
        "print(count_embod)"
      ],
      "metadata": {
        "colab": {
          "base_uri": "https://localhost:8080/"
        },
        "id": "z4uwqYX8Opr0",
        "outputId": "0b91145f-ad8b-4ab1-e4f4-c7b9a18a6e4f"
      },
      "execution_count": 35,
      "outputs": [
        {
          "output_type": "stream",
          "name": "stdout",
          "text": [
            "1317\n"
          ]
        }
      ]
    },
    {
      "cell_type": "markdown",
      "source": [
        "Q3.b)"
      ],
      "metadata": {
        "id": "74W4fbeESgqE"
      }
    },
    {
      "cell_type": "code",
      "source": [
        "count_embod_invention = df['text'].str.contains(r'\\bembod\\w*\\b.*\\binvention\\b', case=False, na=False).sum()\n",
        "print(count_embod_invention)"
      ],
      "metadata": {
        "colab": {
          "base_uri": "https://localhost:8080/"
        },
        "id": "XPt1GtqrSdiB",
        "outputId": "06918c71-4c71-4a4b-b3fb-ea02a095e915"
      },
      "execution_count": 36,
      "outputs": [
        {
          "output_type": "stream",
          "name": "stdout",
          "text": [
            "812\n"
          ]
        }
      ]
    },
    {
      "cell_type": "code",
      "source": [],
      "metadata": {
        "id": "Kol2JOrVSksJ"
      },
      "execution_count": null,
      "outputs": []
    }
  ]
}